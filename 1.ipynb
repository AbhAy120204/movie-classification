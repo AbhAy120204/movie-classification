{
 "cells": [
  {
   "cell_type": "code",
   "execution_count": 9,
   "metadata": {},
   "outputs": [
    {
     "name": "stdout",
     "output_type": "stream",
     "text": [
      "Path to dataset files: C:\\Users\\abhay\\.cache\\kagglehub\\datasets\\rajugc\\imdb-movies-dataset-based-on-genre\\versions\\3\n"
     ]
    }
   ],
   "source": [
    "import kagglehub\n",
    "\n",
    "path = kagglehub.dataset_download(\"rajugc/imdb-movies-dataset-based-on-genre\")\n",
    "\n",
    "print(\"Path to dataset files:\", path)"
   ]
  },
  {
   "cell_type": "code",
   "execution_count": 54,
   "metadata": {},
   "outputs": [],
   "source": [
    "import pandas as pd\n",
    "import numpy as np\n",
    "import matplotlib.pyplot as plt\n",
    "import seaborn as sns\n",
    "import matplotlib.ticker as mtick\n",
    "import re\n",
    "import time\n",
    "import json\n",
    "import nltk\n",
    "from collections import Counter\n",
    "sns.set()"
   ]
  },
  {
   "cell_type": "code",
   "execution_count": 5,
   "metadata": {},
   "outputs": [],
   "source": [
    "genre1 = pd.read_csv(r'C:\\Users\\abhay\\Movie_classification\\3\\action.csv')\n",
    "genre2 = pd.read_csv(r'C:\\Users\\abhay\\Movie_classification\\3\\crime.csv')\n",
    "genre3 = pd.read_csv(r'C:\\Users\\abhay\\Movie_classification\\3\\adventure.csv')\n",
    "genre4 = pd.read_csv(r'C:\\Users\\abhay\\Movie_classification\\3\\thriller.csv')\n",
    "genre5 = pd.read_csv(r'C:\\Users\\abhay\\Movie_classification\\3\\family.csv')\n",
    "genre6 = pd.read_csv(r'C:\\Users\\abhay\\Movie_classification\\3\\mystery.csv')\n",
    "genre7 = pd.read_csv(r'C:\\Users\\abhay\\Movie_classification\\3\\scifi.csv')\n",
    "genre8 = pd.read_csv(r'C:\\Users\\abhay\\Movie_classification\\3\\history.csv')\n",
    "genre9 = pd.read_csv(r'C:\\Users\\abhay\\Movie_classification\\3\\sports.csv')\n",
    "genre10 = pd.read_csv(r'C:\\Users\\abhay\\Movie_classification\\3\\animation.csv')\n",
    "genre11 = pd.read_csv(r'C:\\Users\\abhay\\Movie_classification\\3\\war.csv')\n",
    "genre12 = pd.read_csv(r'C:\\Users\\abhay\\Movie_classification\\3\\biography.csv')\n",
    "genre13 = pd.read_csv(r'C:\\Users\\abhay\\Movie_classification\\3\\horror.csv')\n",
    "genre14 = pd.read_csv(r'C:\\Users\\abhay\\Movie_classification\\3\\fantasy.csv')\n",
    "genre15 = pd.read_csv(r'C:\\Users\\abhay\\Movie_classification\\3\\romance.csv')\n",
    "genre16 = pd.read_csv(r'C:\\Users\\abhay\\Movie_classification\\3\\film-noir.csv')"
   ]
  },
  {
   "cell_type": "code",
   "execution_count": 6,
   "metadata": {},
   "outputs": [
    {
     "data": {
      "text/html": [
       "<div>\n",
       "<style scoped>\n",
       "    .dataframe tbody tr th:only-of-type {\n",
       "        vertical-align: middle;\n",
       "    }\n",
       "\n",
       "    .dataframe tbody tr th {\n",
       "        vertical-align: top;\n",
       "    }\n",
       "\n",
       "    .dataframe thead th {\n",
       "        text-align: right;\n",
       "    }\n",
       "</style>\n",
       "<table border=\"1\" class=\"dataframe\">\n",
       "  <thead>\n",
       "    <tr style=\"text-align: right;\">\n",
       "      <th></th>\n",
       "      <th>movie_id</th>\n",
       "      <th>movie_name</th>\n",
       "      <th>year</th>\n",
       "      <th>certificate</th>\n",
       "      <th>runtime</th>\n",
       "      <th>genre</th>\n",
       "      <th>rating</th>\n",
       "      <th>description</th>\n",
       "      <th>director</th>\n",
       "      <th>director_id</th>\n",
       "      <th>star</th>\n",
       "      <th>star_id</th>\n",
       "      <th>votes</th>\n",
       "      <th>gross(in $)</th>\n",
       "    </tr>\n",
       "  </thead>\n",
       "  <tbody>\n",
       "    <tr>\n",
       "      <th>0</th>\n",
       "      <td>tt9114286</td>\n",
       "      <td>Black Panther: Wakanda Forever</td>\n",
       "      <td>2022</td>\n",
       "      <td>PG-13</td>\n",
       "      <td>161 min</td>\n",
       "      <td>Action, Adventure, Drama</td>\n",
       "      <td>6.9</td>\n",
       "      <td>The people of Wakanda fight to protect their h...</td>\n",
       "      <td>Ryan Coogler</td>\n",
       "      <td>/name/nm3363032/</td>\n",
       "      <td>Letitia Wright, \\nLupita Nyong'o, \\nDanai Guri...</td>\n",
       "      <td>/name/nm4004793/,/name/nm2143282/,/name/nm1775...</td>\n",
       "      <td>204835.0</td>\n",
       "      <td>NaN</td>\n",
       "    </tr>\n",
       "    <tr>\n",
       "      <th>1</th>\n",
       "      <td>tt1630029</td>\n",
       "      <td>Avatar: The Way of Water</td>\n",
       "      <td>2022</td>\n",
       "      <td>PG-13</td>\n",
       "      <td>192 min</td>\n",
       "      <td>Action, Adventure, Fantasy</td>\n",
       "      <td>7.8</td>\n",
       "      <td>Jake Sully lives with his newfound family form...</td>\n",
       "      <td>James Cameron</td>\n",
       "      <td>/name/nm0000116/</td>\n",
       "      <td>Sam Worthington, \\nZoe Saldana, \\nSigourney We...</td>\n",
       "      <td>/name/nm0941777/,/name/nm0757855/,/name/nm0000...</td>\n",
       "      <td>295119.0</td>\n",
       "      <td>NaN</td>\n",
       "    </tr>\n",
       "    <tr>\n",
       "      <th>2</th>\n",
       "      <td>tt5884796</td>\n",
       "      <td>Plane</td>\n",
       "      <td>2023</td>\n",
       "      <td>R</td>\n",
       "      <td>107 min</td>\n",
       "      <td>Action, Thriller</td>\n",
       "      <td>6.5</td>\n",
       "      <td>A pilot finds himself caught in a war zone aft...</td>\n",
       "      <td>Jean-François Richet</td>\n",
       "      <td>/name/nm0724938/</td>\n",
       "      <td>Gerard Butler, \\nMike Colter, \\nTony Goldwyn, ...</td>\n",
       "      <td>/name/nm0124930/,/name/nm1591496/,/name/nm0001...</td>\n",
       "      <td>26220.0</td>\n",
       "      <td>NaN</td>\n",
       "    </tr>\n",
       "    <tr>\n",
       "      <th>3</th>\n",
       "      <td>tt6710474</td>\n",
       "      <td>Everything Everywhere All at Once</td>\n",
       "      <td>2022</td>\n",
       "      <td>R</td>\n",
       "      <td>139 min</td>\n",
       "      <td>Action, Adventure, Comedy</td>\n",
       "      <td>8.0</td>\n",
       "      <td>A middle-aged Chinese immigrant is swept up in...</td>\n",
       "      <td>Dan Kwan, \\nDaniel Scheinert</td>\n",
       "      <td>/name/nm3453283/</td>\n",
       "      <td>Michelle Yeoh, \\nStephanie Hsu, \\nJamie Lee Cu...</td>\n",
       "      <td>/name/nm3215397/,/name/nm0000706/,/name/nm3513...</td>\n",
       "      <td>327858.0</td>\n",
       "      <td>NaN</td>\n",
       "    </tr>\n",
       "    <tr>\n",
       "      <th>4</th>\n",
       "      <td>tt5433140</td>\n",
       "      <td>Fast X</td>\n",
       "      <td>2023</td>\n",
       "      <td>NaN</td>\n",
       "      <td>NaN</td>\n",
       "      <td>Action, Crime, Mystery</td>\n",
       "      <td>NaN</td>\n",
       "      <td>Dom Toretto and his family are targeted by the...</td>\n",
       "      <td>Louis Leterrier</td>\n",
       "      <td>/name/nm0504642/</td>\n",
       "      <td>Vin Diesel, \\nJordana Brewster, \\nTyrese Gibso...</td>\n",
       "      <td>/name/nm0004874/,/name/nm0108287/,/name/nm0879...</td>\n",
       "      <td>NaN</td>\n",
       "      <td>NaN</td>\n",
       "    </tr>\n",
       "    <tr>\n",
       "      <th>...</th>\n",
       "      <td>...</td>\n",
       "      <td>...</td>\n",
       "      <td>...</td>\n",
       "      <td>...</td>\n",
       "      <td>...</td>\n",
       "      <td>...</td>\n",
       "      <td>...</td>\n",
       "      <td>...</td>\n",
       "      <td>...</td>\n",
       "      <td>...</td>\n",
       "      <td>...</td>\n",
       "      <td>...</td>\n",
       "      <td>...</td>\n",
       "      <td>...</td>\n",
       "    </tr>\n",
       "    <tr>\n",
       "      <th>368295</th>\n",
       "      <td>tt0032257</td>\n",
       "      <td>Black Diamonds</td>\n",
       "      <td>1940</td>\n",
       "      <td>NaN</td>\n",
       "      <td>60 min</td>\n",
       "      <td>Crime, Drama, Film-Noir</td>\n",
       "      <td>5.5</td>\n",
       "      <td>A reporter on a visit to his hometown hears of...</td>\n",
       "      <td>Christy Cabanne</td>\n",
       "      <td>/name/nm0127511/</td>\n",
       "      <td>Richard Arlen, \\nAndy Devine, \\nKathryn Adams,...</td>\n",
       "      <td>/name/nm0035159/,/name/nm0222596/,/name/nm0011...</td>\n",
       "      <td>33.0</td>\n",
       "      <td>NaN</td>\n",
       "    </tr>\n",
       "    <tr>\n",
       "      <th>368296</th>\n",
       "      <td>tt0027668</td>\n",
       "      <td>The Gentleman from Louisiana</td>\n",
       "      <td>1936</td>\n",
       "      <td>NaN</td>\n",
       "      <td>67 min</td>\n",
       "      <td>Crime, Drama, Film-Noir</td>\n",
       "      <td>4.5</td>\n",
       "      <td>In Victorian-era USA, a horse-jockey becomes a...</td>\n",
       "      <td>Irving Pichel</td>\n",
       "      <td>/name/nm0681635/</td>\n",
       "      <td>Eddie Quillan, \\nCharles 'Chic' Sale, \\nCharlo...</td>\n",
       "      <td>/name/nm0703600/,/name/nm0757925/,/name/nm0377...</td>\n",
       "      <td>21.0</td>\n",
       "      <td>NaN</td>\n",
       "    </tr>\n",
       "    <tr>\n",
       "      <th>368297</th>\n",
       "      <td>tt0047929</td>\n",
       "      <td>El cerco</td>\n",
       "      <td>1955</td>\n",
       "      <td>NaN</td>\n",
       "      <td>77 min</td>\n",
       "      <td>Crime, Film-Noir</td>\n",
       "      <td>6.2</td>\n",
       "      <td>A group of robbers assault a factory in the po...</td>\n",
       "      <td>Miguel Iglesias</td>\n",
       "      <td>/name/nm0407071/</td>\n",
       "      <td>José Guardiola, \\nIsabel de Castro, \\nÁngel Jo...</td>\n",
       "      <td>/name/nm0345348/,/name/nm0207894/,/name/nm0430...</td>\n",
       "      <td>46.0</td>\n",
       "      <td>NaN</td>\n",
       "    </tr>\n",
       "    <tr>\n",
       "      <th>368298</th>\n",
       "      <td>tt0033161</td>\n",
       "      <td>Three Silent Men</td>\n",
       "      <td>1940</td>\n",
       "      <td>NaN</td>\n",
       "      <td>72 min</td>\n",
       "      <td>Crime, Drama, Film-Noir</td>\n",
       "      <td>5.0</td>\n",
       "      <td>Foreign scientist is selling a secret weapon t...</td>\n",
       "      <td>Thomas Bentley</td>\n",
       "      <td>/name/nm0072872/</td>\n",
       "      <td>Sebastian Shaw, \\nDerrick De Marney, \\nPatrici...</td>\n",
       "      <td>/name/nm0789970/,/name/nm0210116/,/name/nm0733...</td>\n",
       "      <td>79.0</td>\n",
       "      <td>NaN</td>\n",
       "    </tr>\n",
       "    <tr>\n",
       "      <th>368299</th>\n",
       "      <td>tt0042392</td>\n",
       "      <td>Destination Big House</td>\n",
       "      <td>1950</td>\n",
       "      <td>NaN</td>\n",
       "      <td>60 min</td>\n",
       "      <td>Crime, Drama, Film-Noir</td>\n",
       "      <td>6.3</td>\n",
       "      <td>School teacher Janet Brooks innocently involve...</td>\n",
       "      <td>George Blair</td>\n",
       "      <td>/name/nm0086251/</td>\n",
       "      <td>Dorothy Patrick, \\nRobert Rockwell, \\nJimmy Ly...</td>\n",
       "      <td>/name/nm0665842/,/name/nm0734352/,/name/nm0527...</td>\n",
       "      <td>40.0</td>\n",
       "      <td>NaN</td>\n",
       "    </tr>\n",
       "  </tbody>\n",
       "</table>\n",
       "<p>368300 rows × 14 columns</p>\n",
       "</div>"
      ],
      "text/plain": [
       "         movie_id                         movie_name  year certificate  \\\n",
       "0       tt9114286     Black Panther: Wakanda Forever  2022       PG-13   \n",
       "1       tt1630029           Avatar: The Way of Water  2022       PG-13   \n",
       "2       tt5884796                              Plane  2023           R   \n",
       "3       tt6710474  Everything Everywhere All at Once  2022           R   \n",
       "4       tt5433140                             Fast X  2023         NaN   \n",
       "...           ...                                ...   ...         ...   \n",
       "368295  tt0032257                     Black Diamonds  1940         NaN   \n",
       "368296  tt0027668       The Gentleman from Louisiana  1936         NaN   \n",
       "368297  tt0047929                           El cerco  1955         NaN   \n",
       "368298  tt0033161                   Three Silent Men  1940         NaN   \n",
       "368299  tt0042392              Destination Big House  1950         NaN   \n",
       "\n",
       "        runtime                       genre  rating  \\\n",
       "0       161 min    Action, Adventure, Drama     6.9   \n",
       "1       192 min  Action, Adventure, Fantasy     7.8   \n",
       "2       107 min            Action, Thriller     6.5   \n",
       "3       139 min   Action, Adventure, Comedy     8.0   \n",
       "4           NaN      Action, Crime, Mystery     NaN   \n",
       "...         ...                         ...     ...   \n",
       "368295   60 min     Crime, Drama, Film-Noir     5.5   \n",
       "368296   67 min     Crime, Drama, Film-Noir     4.5   \n",
       "368297   77 min            Crime, Film-Noir     6.2   \n",
       "368298   72 min     Crime, Drama, Film-Noir     5.0   \n",
       "368299   60 min     Crime, Drama, Film-Noir     6.3   \n",
       "\n",
       "                                              description  \\\n",
       "0       The people of Wakanda fight to protect their h...   \n",
       "1       Jake Sully lives with his newfound family form...   \n",
       "2       A pilot finds himself caught in a war zone aft...   \n",
       "3       A middle-aged Chinese immigrant is swept up in...   \n",
       "4       Dom Toretto and his family are targeted by the...   \n",
       "...                                                   ...   \n",
       "368295  A reporter on a visit to his hometown hears of...   \n",
       "368296  In Victorian-era USA, a horse-jockey becomes a...   \n",
       "368297  A group of robbers assault a factory in the po...   \n",
       "368298  Foreign scientist is selling a secret weapon t...   \n",
       "368299  School teacher Janet Brooks innocently involve...   \n",
       "\n",
       "                            director       director_id  \\\n",
       "0                       Ryan Coogler  /name/nm3363032/   \n",
       "1                      James Cameron  /name/nm0000116/   \n",
       "2               Jean-François Richet  /name/nm0724938/   \n",
       "3       Dan Kwan, \\nDaniel Scheinert  /name/nm3453283/   \n",
       "4                    Louis Leterrier  /name/nm0504642/   \n",
       "...                              ...               ...   \n",
       "368295               Christy Cabanne  /name/nm0127511/   \n",
       "368296                 Irving Pichel  /name/nm0681635/   \n",
       "368297               Miguel Iglesias  /name/nm0407071/   \n",
       "368298                Thomas Bentley  /name/nm0072872/   \n",
       "368299                  George Blair  /name/nm0086251/   \n",
       "\n",
       "                                                     star  \\\n",
       "0       Letitia Wright, \\nLupita Nyong'o, \\nDanai Guri...   \n",
       "1       Sam Worthington, \\nZoe Saldana, \\nSigourney We...   \n",
       "2       Gerard Butler, \\nMike Colter, \\nTony Goldwyn, ...   \n",
       "3       Michelle Yeoh, \\nStephanie Hsu, \\nJamie Lee Cu...   \n",
       "4       Vin Diesel, \\nJordana Brewster, \\nTyrese Gibso...   \n",
       "...                                                   ...   \n",
       "368295  Richard Arlen, \\nAndy Devine, \\nKathryn Adams,...   \n",
       "368296  Eddie Quillan, \\nCharles 'Chic' Sale, \\nCharlo...   \n",
       "368297  José Guardiola, \\nIsabel de Castro, \\nÁngel Jo...   \n",
       "368298  Sebastian Shaw, \\nDerrick De Marney, \\nPatrici...   \n",
       "368299  Dorothy Patrick, \\nRobert Rockwell, \\nJimmy Ly...   \n",
       "\n",
       "                                                  star_id     votes  \\\n",
       "0       /name/nm4004793/,/name/nm2143282/,/name/nm1775...  204835.0   \n",
       "1       /name/nm0941777/,/name/nm0757855/,/name/nm0000...  295119.0   \n",
       "2       /name/nm0124930/,/name/nm1591496/,/name/nm0001...   26220.0   \n",
       "3       /name/nm3215397/,/name/nm0000706/,/name/nm3513...  327858.0   \n",
       "4       /name/nm0004874/,/name/nm0108287/,/name/nm0879...       NaN   \n",
       "...                                                   ...       ...   \n",
       "368295  /name/nm0035159/,/name/nm0222596/,/name/nm0011...      33.0   \n",
       "368296  /name/nm0703600/,/name/nm0757925/,/name/nm0377...      21.0   \n",
       "368297  /name/nm0345348/,/name/nm0207894/,/name/nm0430...      46.0   \n",
       "368298  /name/nm0789970/,/name/nm0210116/,/name/nm0733...      79.0   \n",
       "368299  /name/nm0665842/,/name/nm0734352/,/name/nm0527...      40.0   \n",
       "\n",
       "        gross(in $)  \n",
       "0               NaN  \n",
       "1               NaN  \n",
       "2               NaN  \n",
       "3               NaN  \n",
       "4               NaN  \n",
       "...             ...  \n",
       "368295          NaN  \n",
       "368296          NaN  \n",
       "368297          NaN  \n",
       "368298          NaN  \n",
       "368299          NaN  \n",
       "\n",
       "[368300 rows x 14 columns]"
      ]
     },
     "execution_count": 6,
     "metadata": {},
     "output_type": "execute_result"
    }
   ],
   "source": [
    "df = pd.concat([genre1, genre2, genre3, genre4,\n",
    "                genre5, genre6, genre7, genre8,\n",
    "                genre9, genre10, genre11, genre12,\n",
    "                genre13, genre14, genre15, genre16])\n",
    "\n",
    "df = df.reset_index(drop=True)\n",
    "\n",
    "df"
   ]
  },
  {
   "cell_type": "code",
   "execution_count": 7,
   "metadata": {},
   "outputs": [
    {
     "name": "stdout",
     "output_type": "stream",
     "text": [
      "Shape of data:  (368300, 14)\n"
     ]
    }
   ],
   "source": [
    "print('Shape of data: ', df.shape)"
   ]
  },
  {
   "cell_type": "code",
   "execution_count": 11,
   "metadata": {},
   "outputs": [
    {
     "data": {
      "text/plain": [
       "('Black Panther: Wakanda Forever',\n",
       " \"The people of Wakanda fight to protect their home from intervening world powers as they mourn the death of King T'Challa.\")"
      ]
     },
     "execution_count": 11,
     "metadata": {},
     "output_type": "execute_result"
    }
   ],
   "source": [
    "df.loc[0, 'movie_name'], df.loc[0, 'description']"
   ]
  },
  {
   "cell_type": "code",
   "execution_count": 9,
   "metadata": {},
   "outputs": [
    {
     "name": "stdout",
     "output_type": "stream",
     "text": [
      "<class 'pandas.core.frame.DataFrame'>\n",
      "RangeIndex: 368300 entries, 0 to 368299\n",
      "Data columns (total 14 columns):\n",
      " #   Column       Non-Null Count   Dtype  \n",
      "---  ------       --------------   -----  \n",
      " 0   movie_id     368300 non-null  object \n",
      " 1   movie_name   368296 non-null  object \n",
      " 2   year         315052 non-null  object \n",
      " 3   certificate  104191 non-null  object \n",
      " 4   runtime      259146 non-null  object \n",
      " 5   genre        368300 non-null  object \n",
      " 6   rating       230938 non-null  float64\n",
      " 7   description  368300 non-null  object \n",
      " 8   director     340931 non-null  object \n",
      " 9   director_id  340931 non-null  object \n",
      " 10  star         309605 non-null  object \n",
      " 11  star_id      316442 non-null  object \n",
      " 12  votes        230942 non-null  float64\n",
      " 13  gross(in $)  25039 non-null   float64\n",
      "dtypes: float64(3), object(11)\n",
      "memory usage: 39.3+ MB\n"
     ]
    }
   ],
   "source": [
    "df.info()"
   ]
  },
  {
   "cell_type": "code",
   "execution_count": 12,
   "metadata": {},
   "outputs": [
    {
     "data": {
      "text/plain": [
       "'Action, Adventure, Drama'"
      ]
     },
     "execution_count": 12,
     "metadata": {},
     "output_type": "execute_result"
    }
   ],
   "source": [
    "df['genre'][0]"
   ]
  },
  {
   "cell_type": "code",
   "execution_count": 24,
   "metadata": {},
   "outputs": [],
   "source": [
    "df['genre_new'] = df['genre'].apply(lambda x: x.split(', '))"
   ]
  },
  {
   "cell_type": "code",
   "execution_count": 25,
   "metadata": {},
   "outputs": [
    {
     "name": "stdout",
     "output_type": "stream",
     "text": [
      "                        genre                     genre_new\n",
      "0    Action, Adventure, Drama    [Action, Adventure, Drama]\n",
      "1  Action, Adventure, Fantasy  [Action, Adventure, Fantasy]\n",
      "2            Action, Thriller            [Action, Thriller]\n",
      "3   Action, Adventure, Comedy   [Action, Adventure, Comedy]\n",
      "4      Action, Crime, Mystery      [Action, Crime, Mystery]\n"
     ]
    }
   ],
   "source": [
    "print(df[['genre', 'genre_new']].head())"
   ]
  },
  {
   "cell_type": "code",
   "execution_count": 27,
   "metadata": {},
   "outputs": [
    {
     "name": "stdout",
     "output_type": "stream",
     "text": [
      "True\n"
     ]
    }
   ],
   "source": [
    "print(isinstance(df['genre_new'][0], list))"
   ]
  },
  {
   "cell_type": "code",
   "execution_count": 28,
   "metadata": {},
   "outputs": [
    {
     "name": "stdout",
     "output_type": "stream",
     "text": [
      "Empty DataFrame\n",
      "Columns: [movie_id, movie_name, year, certificate, runtime, genre, rating, description, director, director_id, star, star_id, votes, gross(in $), genre_new]\n",
      "Index: []\n"
     ]
    }
   ],
   "source": [
    "empty_genres = df[df['genre_new'].apply(lambda x: isinstance(x, list) and len(x) == 0)]\n",
    "print(empty_genres)"
   ]
  },
  {
   "cell_type": "code",
   "execution_count": 58,
   "metadata": {},
   "outputs": [
    {
     "name": "stdout",
     "output_type": "stream",
     "text": [
      "['Music', 'Family', 'Game-Show', 'War', 'Thriller', 'Comedy', 'News', 'Crime', 'Adventure', 'Reality-TV', 'Horror', 'Romance', 'Drama', 'Action', 'Biography', 'Fantasy', 'Adult', 'Western', 'History', 'Animation', 'Talk-Show', 'Mystery', 'Short', 'Musical', 'Sci-Fi', 'Sport', 'Film-Noir']\n"
     ]
    },
    {
     "data": {
      "text/plain": [
       "27"
      ]
     },
     "execution_count": 58,
     "metadata": {},
     "output_type": "execute_result"
    }
   ],
   "source": [
    "all_genres = set(genre for sublist in df['genre_new'] for genre in sublist)\n",
    "\n",
    "all_genres_list = list(all_genres)\n",
    "\n",
    "print(all_genres_list)\n",
    "len(set(all_genres))\n",
    "\n"
   ]
  },
  {
   "cell_type": "code",
   "execution_count": 59,
   "metadata": {},
   "outputs": [
    {
     "name": "stderr",
     "output_type": "stream",
     "text": [
      "C:\\Users\\abhay\\AppData\\Local\\Temp\\ipykernel_22764\\2917662970.py:6: FutureWarning: \n",
      "\n",
      "Passing `palette` without assigning `hue` is deprecated and will be removed in v0.14.0. Assign the `y` variable to `hue` and set `legend=False` for the same effect.\n",
      "\n",
      "  sns.barplot(x='Count', y='Genre', data=genre_df, palette='viridis')\n"
     ]
    },
    {
     "data": {
      "text/plain": [
       "<Axes: xlabel='Count', ylabel='Genre'>"
      ]
     },
     "execution_count": 59,
     "metadata": {},
     "output_type": "execute_result"
    },
    {
     "data": {
      "image/png": "[encoded data removed]",
      "text/plain": [
       "<Figure size 1200x600 with 1 Axes>"
      ]
     },
     "metadata": {},
     "output_type": "display_data"
    }
   ],
   "source": [
    "genre_counts = Counter(genre for sublist in df['genre_new'] for genre in sublist)\n",
    "\n",
    "genre_df = pd.DataFrame(genre_counts.items(), columns=['Genre', 'Count']).sort_values(by='Count', ascending=False)\n",
    "\n",
    "plt.figure(figsize=(12, 6))\n",
    "sns.barplot(x='Count', y='Genre', data=genre_df, palette='viridis')"
   ]
  },
  {
   "cell_type": "code",
   "execution_count": null,
   "metadata": {},
   "outputs": [
    {
     "name": "stdout",
     "output_type": "stream",
     "text": [
      "Genres with 0 count: set()\n"
     ]
    }
   ],
   "source": [
    "zero_count_genres = all_genres - set(genre_counts.keys())\n",
    "\n",
    "print(\"Genres with 0 count:\", zero_count_genres)"
   ]
  },
  {
   "cell_type": "code",
   "execution_count": null,
   "metadata": {},
   "outputs": [],
   "source": []
  }
 ],
 "metadata": {
  "kernelspec": {
   "display_name": "Python 3",
   "language": "python",
   "name": "python3"
  },
  "language_info": {
   "codemirror_mode": {
    "name": "ipython",
    "version": 3
   },
   "file_extension": ".py",
   "mimetype": "text/x-python",
   "name": "python",
   "nbconvert_exporter": "python",
   "pygments_lexer": "ipython3",
   "version": "3.10.0"
  }
 },
 "nbformat": 4,
 "nbformat_minor": 2
}
